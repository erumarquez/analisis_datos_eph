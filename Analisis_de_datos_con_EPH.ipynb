{
  "nbformat": 4,
  "nbformat_minor": 0,
  "metadata": {
    "colab": {
      "provenance": [],
      "authorship_tag": "ABX9TyNmTsF3qcAgGywKQ/GrkjR2",
      "include_colab_link": true
    },
    "kernelspec": {
      "name": "python3",
      "display_name": "Python 3"
    },
    "language_info": {
      "name": "python"
    }
  },
  "cells": [
    {
      "cell_type": "markdown",
      "metadata": {
        "id": "view-in-github",
        "colab_type": "text"
      },
      "source": [
        "<a href=\"https://colab.research.google.com/github/erumarquez/analisis_datos_eph/blob/main/Analisis_de_datos_con_EPH.ipynb\" target=\"_parent\"><img src=\"https://colab.research.google.com/assets/colab-badge.svg\" alt=\"Open In Colab\"/></a>"
      ]
    },
    {
      "cell_type": "code",
      "metadata": {
        "id": "Wz6D5fkP7j08"
      },
      "source": [
        "import pandas as pd\n",
        "import numpy as np\n",
        "import matplotlib.pyplot as plt\n",
        "from  tabulate import tabulate"
      ],
      "execution_count": null,
      "outputs": []
    },
    {
      "cell_type": "code",
      "metadata": {
        "id": "GIH9XcYWkE76"
      },
      "source": [
        "usu = pd.read_csv('https://docs.google.com/spreadsheets/d/e/2PACX-1vQbmOlmP2Zgb-cJeyDovGhMQVF3krjNaFU_HDfu3Mv0KAOCuk_mEXs-90PRMW7lv06gRcpPjLBW70bb/pub?output=csv', sep = \";\" )\n"
      ],
      "execution_count": null,
      "outputs": []
    },
    {
      "cell_type": "code",
      "metadata": {
        "id": "jTyw8oD93QLn"
      },
      "source": [],
      "execution_count": null,
      "outputs": []
    },
    {
      "cell_type": "markdown",
      "metadata": {
        "id": "8ZA_h8iA7n6N"
      },
      "source": [
        "A partir de ahora, vamos a dedicar nuestros esfuerzos en filtrar los datos por region"
      ]
    },
    {
      "cell_type": "code",
      "metadata": {
        "id": "E8BiCJ1lll5w"
      },
      "source": [
        "pob =usu[[\"PONDERA\",\"AGLOMERADO\"]]\n",
        "pon_oc = pon_oc[\"PONDERA\"].loc[(usu['AGLOMERADO'] == 1)]\n",
        "\n",
        "\n",
        "pob = pob.groupby(\"AGLOMERADO\")[\"PONDERA\"].sum()\n",
        "pob"
      ],
      "execution_count": null,
      "outputs": []
    },
    {
      "cell_type": "code",
      "metadata": {
        "id": "pX7OxlUjVQSx"
      },
      "source": [
        "pob =usu[[\"PONDERA\",\"AGLOMERADO\"]]\n",
        "pon_oc = pon_oc[\"PONDERA\"].loc[(usu[\"AGLOMERADO\"] == 32) & (usu[\"AGLOMERADO\"] ==33)]\n",
        "\n",
        "\n",
        "pob = pob.groupby(\"AGLOMERADO\")[\"PONDERA\"].sum()\n",
        "pob"
      ],
      "execution_count": null,
      "outputs": []
    },
    {
      "cell_type": "code",
      "metadata": {
        "id": "7X90yiZCWX4c"
      },
      "source": [
        "pon_oc =usu[[\"PONDERA\",\"ESTADO\"]]\n",
        "pon_oc = pon_oc[\"PONDERA\"].loc[(usu['ESTADO'] == 1)]\n",
        "pon_oc[\"AGLOMERADO\"] = usu[\"AGLOMERADO\"]\n",
        "#pon_oc.info()\n",
        "pon_oc = pon_oc.groupby(\"AGLOMERADO\").sum()"
      ],
      "execution_count": null,
      "outputs": []
    },
    {
      "cell_type": "code",
      "metadata": {
        "id": "4gMr1tIPWZzr"
      },
      "source": [
        "#Poblacion desocuapada por aglomerados\n",
        "pon_desoc =usu[[\"PONDERA\",\"ESTADO\"]]\n",
        "pon_desoc = pon_desoc[\"PONDERA\"].loc[(usu['ESTADO'] == 2)]\n",
        "pon_desoc[\"AGLOMERADO\"] = usu[\"AGLOMERADO\"]\n",
        "#pon_oc.info()\n",
        "pon_desoc = pon_desoc.groupby(\"AGLOMERADO\").sum()"
      ],
      "execution_count": null,
      "outputs": []
    },
    {
      "cell_type": "code",
      "metadata": {
        "id": "x-k874qsWa0r"
      },
      "source": [
        "pea = pon_oc + pon_desoc\n",
        "pea"
      ],
      "execution_count": null,
      "outputs": []
    },
    {
      "cell_type": "code",
      "metadata": {
        "id": "z8eQb9uIWcS7"
      },
      "source": [
        "#Poblacion ocupada demandante\n",
        "pon_ocd =usu[[\"PONDERA\",\"ESTADO\",\"PP03J\"]]\n",
        "pon_ocd = pon_ocd[\"PONDERA\"].loc[(usu['ESTADO'] == 1) & (usu[\"PP03J\"] ==1)]\n",
        "pon_ocd[\"AGLOMERADO\"] = usu[\"AGLOMERADO\"]\n",
        "#pon_oc.info()\n",
        "pon_ocd =pon_ocd.groupby(\"AGLOMERADO\").sum()\n",
        "pon_ocd"
      ],
      "execution_count": null,
      "outputs": []
    },
    {
      "cell_type": "code",
      "metadata": {
        "id": "G8atEuRyWeY7"
      },
      "source": [
        "#Subocupados demandantes\n",
        "pon_subocd =usu[[\"PONDERA\",\"ESTADO\",\"PP03J\",\"INTENSI\"]]\n",
        "pon_subocd = pon_subocd[\"PONDERA\"].loc[(usu['ESTADO'] == 1) & (usu[\"PP03J\"] ==1) & (usu[\"INTENSI\"] == 1)]\n",
        "pon_subocd[\"AGLOMERADO\"] = usu[\"AGLOMERADO\"]\n",
        "pon_subocd =pon_subocd.groupby(\"AGLOMERADO\").sum()\n",
        "pon_subocd"
      ],
      "execution_count": null,
      "outputs": []
    },
    {
      "cell_type": "code",
      "metadata": {
        "id": "rcP19i9vWhIL"
      },
      "source": [
        "#Poblacion subocupada no demandante\n",
        "pon_subocnd =usu[[\"PONDERA\",\"ESTADO\",\"PP03J\",\"INTENSI\"]]\n",
        "pon_subocnd = pon_subocnd[\"PONDERA\"].loc[(usu['ESTADO'] == 1) & (usu[\"PP03J\"] !=1) & (usu[\"INTENSI\"] == 1)]\n",
        "pon_subocnd[\"AGLOMERADO\"] = usu[\"AGLOMERADO\"]\n",
        "pon_subocnd =pon_subocnd.groupby(\"AGLOMERADO\").sum()\n",
        "pon_subocnd"
      ],
      "execution_count": null,
      "outputs": []
    },
    {
      "cell_type": "code",
      "metadata": {
        "id": "GHmMj1B1Wgfc"
      },
      "source": [
        "#~subocupados por aglomerados\n",
        "sub_ag = pon_subocd + pon_subocnd\n",
        "sub_ag"
      ],
      "execution_count": null,
      "outputs": []
    },
    {
      "cell_type": "code",
      "metadata": {
        "id": "Ave8D3jxWqDx"
      },
      "source": [
        "#tasa de actividad por aglomerados\n",
        "act = pea/pob\n",
        "act"
      ],
      "execution_count": null,
      "outputs": []
    },
    {
      "cell_type": "code",
      "metadata": {
        "id": "CCjErjdFWszx"
      },
      "source": [
        "#Tasa de empleo\n",
        "emp = pon_oc/pob\n",
        "emp"
      ],
      "execution_count": null,
      "outputs": []
    },
    {
      "cell_type": "code",
      "metadata": {
        "id": "ekzWKj97WurB"
      },
      "source": [
        "#Tasa de desocupados\n",
        "des = pon_desoc/pea\n",
        "des"
      ],
      "execution_count": null,
      "outputs": []
    },
    {
      "cell_type": "code",
      "metadata": {
        "id": "flbQarXMWvbR"
      },
      "source": [
        "#Tasa de subocupados demandantes\n",
        "ocupd = pon_subocd/pea\n",
        "ocupd"
      ],
      "execution_count": null,
      "outputs": []
    },
    {
      "cell_type": "code",
      "metadata": {
        "id": "JosWK0hQWw7h"
      },
      "source": [
        "#Tasa de subocupados\n",
        "subocu = sub_ag/pea\n",
        "subocu"
      ],
      "execution_count": null,
      "outputs": []
    },
    {
      "cell_type": "code",
      "metadata": {
        "id": "7EM8h5b2WyKZ"
      },
      "source": [
        "#Tasa de ocupados demandantes\n",
        "ocupa_dem = pon_ocd/pea\n",
        "ocupa_dem"
      ],
      "execution_count": null,
      "outputs": []
    },
    {
      "cell_type": "code",
      "metadata": {
        "colab": {
          "base_uri": "https://localhost:8080/"
        },
        "id": "O-bjxY9rWzVX",
        "outputId": "8fb82bc6-4a8e-41a3-aa8e-11653ff417cd"
      },
      "source": [
        "type(usu['REGION'].value_counts())"
      ],
      "execution_count": null,
      "outputs": [
        {
          "output_type": "execute_result",
          "data": {
            "text/plain": [
              "pandas.core.series.Series"
            ]
          },
          "metadata": {},
          "execution_count": 88
        }
      ]
    },
    {
      "cell_type": "code",
      "metadata": {
        "colab": {
          "base_uri": "https://localhost:8080/",
          "height": 350
        },
        "id": "YvOtxcXfZbeJ",
        "outputId": "89abd35b-ab9b-4435-cfc5-272e77419f0a"
      },
      "source": [
        "usu.describe()"
      ],
      "execution_count": null,
      "outputs": [
        {
          "output_type": "execute_result",
          "data": {
            "text/html": [
              "<div>\n",
              "<style scoped>\n",
              "    .dataframe tbody tr th:only-of-type {\n",
              "        vertical-align: middle;\n",
              "    }\n",
              "\n",
              "    .dataframe tbody tr th {\n",
              "        vertical-align: top;\n",
              "    }\n",
              "\n",
              "    .dataframe thead th {\n",
              "        text-align: right;\n",
              "    }\n",
              "</style>\n",
              "<table border=\"1\" class=\"dataframe\">\n",
              "  <thead>\n",
              "    <tr style=\"text-align: right;\">\n",
              "      <th></th>\n",
              "      <th>TRIMESTRE</th>\n",
              "      <th>NRO_HOGAR</th>\n",
              "      <th>COMPONENTE</th>\n",
              "      <th>H15</th>\n",
              "      <th>AGLOMERADO</th>\n",
              "      <th>PONDERA</th>\n",
              "      <th>CH03</th>\n",
              "      <th>CH04</th>\n",
              "      <th>CH06</th>\n",
              "      <th>CH07</th>\n",
              "      <th>CH08</th>\n",
              "      <th>CH09</th>\n",
              "      <th>CH10</th>\n",
              "      <th>CH11</th>\n",
              "      <th>CH12</th>\n",
              "      <th>CH13</th>\n",
              "      <th>CH14</th>\n",
              "      <th>CH15</th>\n",
              "      <th>CH15_COD</th>\n",
              "      <th>CH16</th>\n",
              "      <th>CH16_COD</th>\n",
              "      <th>NIVEL_ED</th>\n",
              "      <th>ESTADO</th>\n",
              "      <th>CAT_OCUP</th>\n",
              "      <th>CAT_INAC</th>\n",
              "      <th>IMPUTA</th>\n",
              "      <th>PP02C1</th>\n",
              "      <th>PP02C2</th>\n",
              "      <th>PP02C3</th>\n",
              "      <th>PP02C4</th>\n",
              "      <th>PP02C5</th>\n",
              "      <th>PP02C6</th>\n",
              "      <th>PP02C7</th>\n",
              "      <th>PP02C8</th>\n",
              "      <th>PP02E</th>\n",
              "      <th>PP02H</th>\n",
              "      <th>PP02I</th>\n",
              "      <th>PP03C</th>\n",
              "      <th>PP03D</th>\n",
              "      <th>PP3E_TOT</th>\n",
              "      <th>...</th>\n",
              "      <th>ADECOCUR</th>\n",
              "      <th>PONDIIO</th>\n",
              "      <th>TOT_P12</th>\n",
              "      <th>P47T</th>\n",
              "      <th>DECINDR</th>\n",
              "      <th>IDECINDR</th>\n",
              "      <th>RDECINDR</th>\n",
              "      <th>GDECINDR</th>\n",
              "      <th>PDECINDR</th>\n",
              "      <th>ADECINDR</th>\n",
              "      <th>PONDII</th>\n",
              "      <th>V2_M</th>\n",
              "      <th>V3_M</th>\n",
              "      <th>V4_M</th>\n",
              "      <th>V5_M</th>\n",
              "      <th>V8_M</th>\n",
              "      <th>V9_M</th>\n",
              "      <th>V10_M</th>\n",
              "      <th>V11_M</th>\n",
              "      <th>V12_M</th>\n",
              "      <th>V18_M</th>\n",
              "      <th>V19_AM</th>\n",
              "      <th>V21_M</th>\n",
              "      <th>T_VI</th>\n",
              "      <th>ITF</th>\n",
              "      <th>DECIFR</th>\n",
              "      <th>IDECIFR</th>\n",
              "      <th>RDECIFR</th>\n",
              "      <th>GDECIFR</th>\n",
              "      <th>PDECIFR</th>\n",
              "      <th>ADECIFR</th>\n",
              "      <th>IPCF</th>\n",
              "      <th>DECCFR</th>\n",
              "      <th>IDECCFR</th>\n",
              "      <th>RDECCFR</th>\n",
              "      <th>GDECCFR</th>\n",
              "      <th>PDECCFR</th>\n",
              "      <th>ADECCFR</th>\n",
              "      <th>PONDIH</th>\n",
              "      <th>CH04d</th>\n",
              "    </tr>\n",
              "  </thead>\n",
              "  <tbody>\n",
              "    <tr>\n",
              "      <th>count</th>\n",
              "      <td>46693.0</td>\n",
              "      <td>46693.000000</td>\n",
              "      <td>46693.000000</td>\n",
              "      <td>46693.000000</td>\n",
              "      <td>46693.000000</td>\n",
              "      <td>46693.000000</td>\n",
              "      <td>46693.000000</td>\n",
              "      <td>46693.000000</td>\n",
              "      <td>46693.000000</td>\n",
              "      <td>46693.000000</td>\n",
              "      <td>46693.000000</td>\n",
              "      <td>46693.000000</td>\n",
              "      <td>46693.000000</td>\n",
              "      <td>46693.000000</td>\n",
              "      <td>46693.000000</td>\n",
              "      <td>46693.000000</td>\n",
              "      <td>23333.000000</td>\n",
              "      <td>46693.000000</td>\n",
              "      <td>7043.000000</td>\n",
              "      <td>46693.00000</td>\n",
              "      <td>591.000000</td>\n",
              "      <td>46693.000000</td>\n",
              "      <td>46693.000000</td>\n",
              "      <td>46693.000000</td>\n",
              "      <td>46693.000000</td>\n",
              "      <td>54.0</td>\n",
              "      <td>46693.000000</td>\n",
              "      <td>46693.00000</td>\n",
              "      <td>46693.000000</td>\n",
              "      <td>46693.000000</td>\n",
              "      <td>46693.000000</td>\n",
              "      <td>46693.000000</td>\n",
              "      <td>46693.000000</td>\n",
              "      <td>46693.000000</td>\n",
              "      <td>46693.000000</td>\n",
              "      <td>46693.000000</td>\n",
              "      <td>46693.000000</td>\n",
              "      <td>19014.000000</td>\n",
              "      <td>19014.000000</td>\n",
              "      <td>19014.000000</td>\n",
              "      <td>...</td>\n",
              "      <td>46693.000000</td>\n",
              "      <td>46693.000000</td>\n",
              "      <td>46693.000000</td>\n",
              "      <td>46619.000000</td>\n",
              "      <td>46693.000000</td>\n",
              "      <td>42611.000000</td>\n",
              "      <td>46693.000000</td>\n",
              "      <td>20014.000000</td>\n",
              "      <td>26679.000000</td>\n",
              "      <td>46693.000000</td>\n",
              "      <td>46693.000000</td>\n",
              "      <td>46693.000000</td>\n",
              "      <td>46693.000000</td>\n",
              "      <td>46693.000000</td>\n",
              "      <td>46693.00000</td>\n",
              "      <td>46693.000000</td>\n",
              "      <td>46693.000000</td>\n",
              "      <td>46693.000000</td>\n",
              "      <td>46693.00000</td>\n",
              "      <td>46693.000000</td>\n",
              "      <td>46693.000000</td>\n",
              "      <td>46693.0</td>\n",
              "      <td>46693.000000</td>\n",
              "      <td>46693.000000</td>\n",
              "      <td>46691.000000</td>\n",
              "      <td>46691.000000</td>\n",
              "      <td>46691.000000</td>\n",
              "      <td>46691.000000</td>\n",
              "      <td>46691.000000</td>\n",
              "      <td>46691.000000</td>\n",
              "      <td>46691.000000</td>\n",
              "      <td>46691.000000</td>\n",
              "      <td>46691.00000</td>\n",
              "      <td>46691.000000</td>\n",
              "      <td>46691.000000</td>\n",
              "      <td>46691.000000</td>\n",
              "      <td>46691.000000</td>\n",
              "      <td>46691.000000</td>\n",
              "      <td>46693.000000</td>\n",
              "      <td>46693.000000</td>\n",
              "    </tr>\n",
              "    <tr>\n",
              "      <th>mean</th>\n",
              "      <td>1.0</td>\n",
              "      <td>1.044503</td>\n",
              "      <td>2.548069</td>\n",
              "      <td>0.869766</td>\n",
              "      <td>22.718609</td>\n",
              "      <td>616.947680</td>\n",
              "      <td>2.497162</td>\n",
              "      <td>1.522005</td>\n",
              "      <td>35.819952</td>\n",
              "      <td>3.501467</td>\n",
              "      <td>2.251644</td>\n",
              "      <td>1.103634</td>\n",
              "      <td>1.687405</td>\n",
              "      <td>0.360996</td>\n",
              "      <td>3.928105</td>\n",
              "      <td>1.454222</td>\n",
              "      <td>4.546179</td>\n",
              "      <td>1.423789</td>\n",
              "      <td>71.955417</td>\n",
              "      <td>1.33414</td>\n",
              "      <td>69.967851</td>\n",
              "      <td>3.724477</td>\n",
              "      <td>2.274816</td>\n",
              "      <td>1.178078</td>\n",
              "      <td>1.631529</td>\n",
              "      <td>1.0</td>\n",
              "      <td>0.064571</td>\n",
              "      <td>0.04763</td>\n",
              "      <td>0.060630</td>\n",
              "      <td>0.068597</td>\n",
              "      <td>0.065920</td>\n",
              "      <td>0.049001</td>\n",
              "      <td>0.067655</td>\n",
              "      <td>0.070182</td>\n",
              "      <td>0.019703</td>\n",
              "      <td>0.833037</td>\n",
              "      <td>0.830981</td>\n",
              "      <td>0.971915</td>\n",
              "      <td>0.156096</td>\n",
              "      <td>33.206469</td>\n",
              "      <td>...</td>\n",
              "      <td>2.501874</td>\n",
              "      <td>616.940848</td>\n",
              "      <td>680.318527</td>\n",
              "      <td>19814.440786</td>\n",
              "      <td>3.725505</td>\n",
              "      <td>3.784398</td>\n",
              "      <td>3.859915</td>\n",
              "      <td>3.809983</td>\n",
              "      <td>3.800405</td>\n",
              "      <td>3.858201</td>\n",
              "      <td>616.937228</td>\n",
              "      <td>4627.490630</td>\n",
              "      <td>75.299402</td>\n",
              "      <td>10.442101</td>\n",
              "      <td>469.80072</td>\n",
              "      <td>179.268820</td>\n",
              "      <td>24.025036</td>\n",
              "      <td>43.882316</td>\n",
              "      <td>21.49320</td>\n",
              "      <td>326.744823</td>\n",
              "      <td>4.924828</td>\n",
              "      <td>0.0</td>\n",
              "      <td>713.585848</td>\n",
              "      <td>6432.166813</td>\n",
              "      <td>61272.261742</td>\n",
              "      <td>6.711443</td>\n",
              "      <td>6.182069</td>\n",
              "      <td>6.854854</td>\n",
              "      <td>2.946821</td>\n",
              "      <td>3.885952</td>\n",
              "      <td>6.892913</td>\n",
              "      <td>18586.089942</td>\n",
              "      <td>5.83213</td>\n",
              "      <td>5.282924</td>\n",
              "      <td>6.017005</td>\n",
              "      <td>2.591249</td>\n",
              "      <td>3.359234</td>\n",
              "      <td>6.045169</td>\n",
              "      <td>616.937699</td>\n",
              "      <td>0.522005</td>\n",
              "    </tr>\n",
              "    <tr>\n",
              "      <th>std</th>\n",
              "      <td>0.0</td>\n",
              "      <td>0.826631</td>\n",
              "      <td>1.645974</td>\n",
              "      <td>0.341240</td>\n",
              "      <td>18.914093</td>\n",
              "      <td>1202.888326</td>\n",
              "      <td>1.598322</td>\n",
              "      <td>0.499521</td>\n",
              "      <td>22.439663</td>\n",
              "      <td>1.639832</td>\n",
              "      <td>2.075717</td>\n",
              "      <td>0.376808</td>\n",
              "      <td>0.565381</td>\n",
              "      <td>0.603735</td>\n",
              "      <td>2.472922</td>\n",
              "      <td>0.594879</td>\n",
              "      <td>14.105146</td>\n",
              "      <td>0.843767</td>\n",
              "      <td>83.267821</td>\n",
              "      <td>1.21054</td>\n",
              "      <td>95.802661</td>\n",
              "      <td>1.797478</td>\n",
              "      <td>1.134413</td>\n",
              "      <td>1.386689</td>\n",
              "      <td>1.850579</td>\n",
              "      <td>0.0</td>\n",
              "      <td>0.344839</td>\n",
              "      <td>0.26456</td>\n",
              "      <td>0.328001</td>\n",
              "      <td>0.361188</td>\n",
              "      <td>0.350408</td>\n",
              "      <td>0.271977</td>\n",
              "      <td>0.357433</td>\n",
              "      <td>0.367412</td>\n",
              "      <td>0.290335</td>\n",
              "      <td>0.981369</td>\n",
              "      <td>0.979444</td>\n",
              "      <td>0.409289</td>\n",
              "      <td>0.600264</td>\n",
              "      <td>29.999021</td>\n",
              "      <td>...</td>\n",
              "      <td>3.807974</td>\n",
              "      <td>1320.145639</td>\n",
              "      <td>5231.158931</td>\n",
              "      <td>31705.829005</td>\n",
              "      <td>4.028136</td>\n",
              "      <td>4.042871</td>\n",
              "      <td>4.100951</td>\n",
              "      <td>4.136073</td>\n",
              "      <td>4.028239</td>\n",
              "      <td>4.106195</td>\n",
              "      <td>1344.232751</td>\n",
              "      <td>13435.030275</td>\n",
              "      <td>4530.580037</td>\n",
              "      <td>284.229875</td>\n",
              "      <td>2849.00728</td>\n",
              "      <td>2944.675096</td>\n",
              "      <td>1317.334459</td>\n",
              "      <td>3863.502433</td>\n",
              "      <td>582.02859</td>\n",
              "      <td>2918.866252</td>\n",
              "      <td>376.327369</td>\n",
              "      <td>0.0</td>\n",
              "      <td>3932.499187</td>\n",
              "      <td>17729.828750</td>\n",
              "      <td>59675.746294</td>\n",
              "      <td>3.508663</td>\n",
              "      <td>3.807567</td>\n",
              "      <td>3.506660</td>\n",
              "      <td>4.158132</td>\n",
              "      <td>4.223809</td>\n",
              "      <td>3.506609</td>\n",
              "      <td>21854.904449</td>\n",
              "      <td>3.77638</td>\n",
              "      <td>3.906419</td>\n",
              "      <td>3.761059</td>\n",
              "      <td>3.957409</td>\n",
              "      <td>4.003686</td>\n",
              "      <td>3.769771</td>\n",
              "      <td>1580.464850</td>\n",
              "      <td>0.499521</td>\n",
              "    </tr>\n",
              "    <tr>\n",
              "      <th>min</th>\n",
              "      <td>1.0</td>\n",
              "      <td>1.000000</td>\n",
              "      <td>1.000000</td>\n",
              "      <td>0.000000</td>\n",
              "      <td>2.000000</td>\n",
              "      <td>18.000000</td>\n",
              "      <td>1.000000</td>\n",
              "      <td>1.000000</td>\n",
              "      <td>-1.000000</td>\n",
              "      <td>1.000000</td>\n",
              "      <td>1.000000</td>\n",
              "      <td>1.000000</td>\n",
              "      <td>0.000000</td>\n",
              "      <td>0.000000</td>\n",
              "      <td>0.000000</td>\n",
              "      <td>0.000000</td>\n",
              "      <td>0.000000</td>\n",
              "      <td>0.000000</td>\n",
              "      <td>2.000000</td>\n",
              "      <td>0.00000</td>\n",
              "      <td>2.000000</td>\n",
              "      <td>1.000000</td>\n",
              "      <td>0.000000</td>\n",
              "      <td>0.000000</td>\n",
              "      <td>0.000000</td>\n",
              "      <td>1.0</td>\n",
              "      <td>0.000000</td>\n",
              "      <td>0.00000</td>\n",
              "      <td>0.000000</td>\n",
              "      <td>0.000000</td>\n",
              "      <td>0.000000</td>\n",
              "      <td>0.000000</td>\n",
              "      <td>0.000000</td>\n",
              "      <td>0.000000</td>\n",
              "      <td>0.000000</td>\n",
              "      <td>0.000000</td>\n",
              "      <td>0.000000</td>\n",
              "      <td>0.000000</td>\n",
              "      <td>0.000000</td>\n",
              "      <td>0.000000</td>\n",
              "      <td>...</td>\n",
              "      <td>0.000000</td>\n",
              "      <td>0.000000</td>\n",
              "      <td>-9.000000</td>\n",
              "      <td>-9.000000</td>\n",
              "      <td>0.000000</td>\n",
              "      <td>0.000000</td>\n",
              "      <td>0.000000</td>\n",
              "      <td>0.000000</td>\n",
              "      <td>0.000000</td>\n",
              "      <td>0.000000</td>\n",
              "      <td>0.000000</td>\n",
              "      <td>-9.000000</td>\n",
              "      <td>-9.000000</td>\n",
              "      <td>-9.000000</td>\n",
              "      <td>-9.00000</td>\n",
              "      <td>-9.000000</td>\n",
              "      <td>-9.000000</td>\n",
              "      <td>-9.000000</td>\n",
              "      <td>-9.00000</td>\n",
              "      <td>-9.000000</td>\n",
              "      <td>-9.000000</td>\n",
              "      <td>0.0</td>\n",
              "      <td>-9.000000</td>\n",
              "      <td>-9.000000</td>\n",
              "      <td>0.000000</td>\n",
              "      <td>0.000000</td>\n",
              "      <td>0.000000</td>\n",
              "      <td>0.000000</td>\n",
              "      <td>0.000000</td>\n",
              "      <td>0.000000</td>\n",
              "      <td>0.000000</td>\n",
              "      <td>0.000000</td>\n",
              "      <td>0.00000</td>\n",
              "      <td>0.000000</td>\n",
              "      <td>0.000000</td>\n",
              "      <td>0.000000</td>\n",
              "      <td>0.000000</td>\n",
              "      <td>0.000000</td>\n",
              "      <td>0.000000</td>\n",
              "      <td>0.000000</td>\n",
              "    </tr>\n",
              "    <tr>\n",
              "      <th>25%</th>\n",
              "      <td>1.0</td>\n",
              "      <td>1.000000</td>\n",
              "      <td>1.000000</td>\n",
              "      <td>1.000000</td>\n",
              "      <td>10.000000</td>\n",
              "      <td>157.000000</td>\n",
              "      <td>1.000000</td>\n",
              "      <td>1.000000</td>\n",
              "      <td>17.000000</td>\n",
              "      <td>2.000000</td>\n",
              "      <td>1.000000</td>\n",
              "      <td>1.000000</td>\n",
              "      <td>1.000000</td>\n",
              "      <td>0.000000</td>\n",
              "      <td>2.000000</td>\n",
              "      <td>1.000000</td>\n",
              "      <td>1.000000</td>\n",
              "      <td>1.000000</td>\n",
              "      <td>14.000000</td>\n",
              "      <td>1.00000</td>\n",
              "      <td>6.000000</td>\n",
              "      <td>2.000000</td>\n",
              "      <td>1.000000</td>\n",
              "      <td>0.000000</td>\n",
              "      <td>0.000000</td>\n",
              "      <td>1.0</td>\n",
              "      <td>0.000000</td>\n",
              "      <td>0.00000</td>\n",
              "      <td>0.000000</td>\n",
              "      <td>0.000000</td>\n",
              "      <td>0.000000</td>\n",
              "      <td>0.000000</td>\n",
              "      <td>0.000000</td>\n",
              "      <td>0.000000</td>\n",
              "      <td>0.000000</td>\n",
              "      <td>0.000000</td>\n",
              "      <td>0.000000</td>\n",
              "      <td>1.000000</td>\n",
              "      <td>0.000000</td>\n",
              "      <td>20.000000</td>\n",
              "      <td>...</td>\n",
              "      <td>0.000000</td>\n",
              "      <td>145.000000</td>\n",
              "      <td>0.000000</td>\n",
              "      <td>0.000000</td>\n",
              "      <td>0.000000</td>\n",
              "      <td>0.000000</td>\n",
              "      <td>0.000000</td>\n",
              "      <td>0.000000</td>\n",
              "      <td>0.000000</td>\n",
              "      <td>0.000000</td>\n",
              "      <td>140.000000</td>\n",
              "      <td>0.000000</td>\n",
              "      <td>0.000000</td>\n",
              "      <td>0.000000</td>\n",
              "      <td>0.00000</td>\n",
              "      <td>0.000000</td>\n",
              "      <td>0.000000</td>\n",
              "      <td>0.000000</td>\n",
              "      <td>0.00000</td>\n",
              "      <td>0.000000</td>\n",
              "      <td>0.000000</td>\n",
              "      <td>0.0</td>\n",
              "      <td>0.000000</td>\n",
              "      <td>0.000000</td>\n",
              "      <td>20800.000000</td>\n",
              "      <td>4.000000</td>\n",
              "      <td>3.000000</td>\n",
              "      <td>4.000000</td>\n",
              "      <td>0.000000</td>\n",
              "      <td>0.000000</td>\n",
              "      <td>4.000000</td>\n",
              "      <td>5600.000000</td>\n",
              "      <td>3.00000</td>\n",
              "      <td>2.000000</td>\n",
              "      <td>3.000000</td>\n",
              "      <td>0.000000</td>\n",
              "      <td>0.000000</td>\n",
              "      <td>3.000000</td>\n",
              "      <td>113.000000</td>\n",
              "      <td>0.000000</td>\n",
              "    </tr>\n",
              "    <tr>\n",
              "      <th>50%</th>\n",
              "      <td>1.0</td>\n",
              "      <td>1.000000</td>\n",
              "      <td>2.000000</td>\n",
              "      <td>1.000000</td>\n",
              "      <td>19.000000</td>\n",
              "      <td>254.000000</td>\n",
              "      <td>2.000000</td>\n",
              "      <td>2.000000</td>\n",
              "      <td>33.000000</td>\n",
              "      <td>5.000000</td>\n",
              "      <td>1.000000</td>\n",
              "      <td>1.000000</td>\n",
              "      <td>2.000000</td>\n",
              "      <td>0.000000</td>\n",
              "      <td>4.000000</td>\n",
              "      <td>1.000000</td>\n",
              "      <td>2.000000</td>\n",
              "      <td>1.000000</td>\n",
              "      <td>46.000000</td>\n",
              "      <td>1.00000</td>\n",
              "      <td>34.000000</td>\n",
              "      <td>4.000000</td>\n",
              "      <td>3.000000</td>\n",
              "      <td>0.000000</td>\n",
              "      <td>1.000000</td>\n",
              "      <td>1.0</td>\n",
              "      <td>0.000000</td>\n",
              "      <td>0.00000</td>\n",
              "      <td>0.000000</td>\n",
              "      <td>0.000000</td>\n",
              "      <td>0.000000</td>\n",
              "      <td>0.000000</td>\n",
              "      <td>0.000000</td>\n",
              "      <td>0.000000</td>\n",
              "      <td>0.000000</td>\n",
              "      <td>0.000000</td>\n",
              "      <td>0.000000</td>\n",
              "      <td>1.000000</td>\n",
              "      <td>0.000000</td>\n",
              "      <td>35.000000</td>\n",
              "      <td>...</td>\n",
              "      <td>0.000000</td>\n",
              "      <td>242.000000</td>\n",
              "      <td>0.000000</td>\n",
              "      <td>6000.000000</td>\n",
              "      <td>2.000000</td>\n",
              "      <td>3.000000</td>\n",
              "      <td>3.000000</td>\n",
              "      <td>2.000000</td>\n",
              "      <td>3.000000</td>\n",
              "      <td>3.000000</td>\n",
              "      <td>237.000000</td>\n",
              "      <td>0.000000</td>\n",
              "      <td>0.000000</td>\n",
              "      <td>0.000000</td>\n",
              "      <td>0.00000</td>\n",
              "      <td>0.000000</td>\n",
              "      <td>0.000000</td>\n",
              "      <td>0.000000</td>\n",
              "      <td>0.00000</td>\n",
              "      <td>0.000000</td>\n",
              "      <td>0.000000</td>\n",
              "      <td>0.0</td>\n",
              "      <td>0.000000</td>\n",
              "      <td>0.000000</td>\n",
              "      <td>50000.000000</td>\n",
              "      <td>7.000000</td>\n",
              "      <td>6.000000</td>\n",
              "      <td>7.000000</td>\n",
              "      <td>0.000000</td>\n",
              "      <td>2.000000</td>\n",
              "      <td>7.000000</td>\n",
              "      <td>13572.730000</td>\n",
              "      <td>5.00000</td>\n",
              "      <td>4.000000</td>\n",
              "      <td>5.000000</td>\n",
              "      <td>0.000000</td>\n",
              "      <td>2.000000</td>\n",
              "      <td>5.000000</td>\n",
              "      <td>215.000000</td>\n",
              "      <td>1.000000</td>\n",
              "    </tr>\n",
              "    <tr>\n",
              "      <th>75%</th>\n",
              "      <td>1.0</td>\n",
              "      <td>1.000000</td>\n",
              "      <td>3.000000</td>\n",
              "      <td>1.000000</td>\n",
              "      <td>29.000000</td>\n",
              "      <td>474.000000</td>\n",
              "      <td>3.000000</td>\n",
              "      <td>2.000000</td>\n",
              "      <td>53.000000</td>\n",
              "      <td>5.000000</td>\n",
              "      <td>4.000000</td>\n",
              "      <td>1.000000</td>\n",
              "      <td>2.000000</td>\n",
              "      <td>1.000000</td>\n",
              "      <td>6.000000</td>\n",
              "      <td>2.000000</td>\n",
              "      <td>4.000000</td>\n",
              "      <td>1.000000</td>\n",
              "      <td>86.000000</td>\n",
              "      <td>1.00000</td>\n",
              "      <td>82.000000</td>\n",
              "      <td>5.000000</td>\n",
              "      <td>3.000000</td>\n",
              "      <td>3.000000</td>\n",
              "      <td>3.000000</td>\n",
              "      <td>1.0</td>\n",
              "      <td>0.000000</td>\n",
              "      <td>0.00000</td>\n",
              "      <td>0.000000</td>\n",
              "      <td>0.000000</td>\n",
              "      <td>0.000000</td>\n",
              "      <td>0.000000</td>\n",
              "      <td>0.000000</td>\n",
              "      <td>0.000000</td>\n",
              "      <td>0.000000</td>\n",
              "      <td>2.000000</td>\n",
              "      <td>2.000000</td>\n",
              "      <td>1.000000</td>\n",
              "      <td>0.000000</td>\n",
              "      <td>45.000000</td>\n",
              "      <td>...</td>\n",
              "      <td>5.000000</td>\n",
              "      <td>459.000000</td>\n",
              "      <td>0.000000</td>\n",
              "      <td>30000.000000</td>\n",
              "      <td>7.000000</td>\n",
              "      <td>7.000000</td>\n",
              "      <td>7.000000</td>\n",
              "      <td>7.000000</td>\n",
              "      <td>7.000000</td>\n",
              "      <td>7.000000</td>\n",
              "      <td>454.000000</td>\n",
              "      <td>0.000000</td>\n",
              "      <td>0.000000</td>\n",
              "      <td>0.000000</td>\n",
              "      <td>0.00000</td>\n",
              "      <td>0.000000</td>\n",
              "      <td>0.000000</td>\n",
              "      <td>0.000000</td>\n",
              "      <td>0.00000</td>\n",
              "      <td>0.000000</td>\n",
              "      <td>0.000000</td>\n",
              "      <td>0.0</td>\n",
              "      <td>0.000000</td>\n",
              "      <td>0.000000</td>\n",
              "      <td>84000.000000</td>\n",
              "      <td>9.000000</td>\n",
              "      <td>9.000000</td>\n",
              "      <td>10.000000</td>\n",
              "      <td>6.000000</td>\n",
              "      <td>7.000000</td>\n",
              "      <td>10.000000</td>\n",
              "      <td>24500.000000</td>\n",
              "      <td>9.00000</td>\n",
              "      <td>8.000000</td>\n",
              "      <td>9.000000</td>\n",
              "      <td>4.000000</td>\n",
              "      <td>6.000000</td>\n",
              "      <td>9.000000</td>\n",
              "      <td>430.000000</td>\n",
              "      <td>1.000000</td>\n",
              "    </tr>\n",
              "    <tr>\n",
              "      <th>max</th>\n",
              "      <td>1.0</td>\n",
              "      <td>72.000000</td>\n",
              "      <td>16.000000</td>\n",
              "      <td>2.000000</td>\n",
              "      <td>93.000000</td>\n",
              "      <td>16406.000000</td>\n",
              "      <td>10.000000</td>\n",
              "      <td>2.000000</td>\n",
              "      <td>101.000000</td>\n",
              "      <td>9.000000</td>\n",
              "      <td>123.000000</td>\n",
              "      <td>9.000000</td>\n",
              "      <td>9.000000</td>\n",
              "      <td>9.000000</td>\n",
              "      <td>99.000000</td>\n",
              "      <td>9.000000</td>\n",
              "      <td>99.000000</td>\n",
              "      <td>9.000000</td>\n",
              "      <td>999.000000</td>\n",
              "      <td>9.00000</td>\n",
              "      <td>999.000000</td>\n",
              "      <td>7.000000</td>\n",
              "      <td>4.000000</td>\n",
              "      <td>9.000000</td>\n",
              "      <td>7.000000</td>\n",
              "      <td>1.0</td>\n",
              "      <td>2.000000</td>\n",
              "      <td>2.00000</td>\n",
              "      <td>2.000000</td>\n",
              "      <td>2.000000</td>\n",
              "      <td>2.000000</td>\n",
              "      <td>2.000000</td>\n",
              "      <td>2.000000</td>\n",
              "      <td>2.000000</td>\n",
              "      <td>5.000000</td>\n",
              "      <td>2.000000</td>\n",
              "      <td>2.000000</td>\n",
              "      <td>2.000000</td>\n",
              "      <td>9.000000</td>\n",
              "      <td>999.000000</td>\n",
              "      <td>...</td>\n",
              "      <td>12.000000</td>\n",
              "      <td>21617.000000</td>\n",
              "      <td>270000.000000</td>\n",
              "      <td>819000.000000</td>\n",
              "      <td>13.000000</td>\n",
              "      <td>13.000000</td>\n",
              "      <td>13.000000</td>\n",
              "      <td>13.000000</td>\n",
              "      <td>13.000000</td>\n",
              "      <td>13.000000</td>\n",
              "      <td>20452.000000</td>\n",
              "      <td>500000.000000</td>\n",
              "      <td>600000.000000</td>\n",
              "      <td>15000.000000</td>\n",
              "      <td>250000.00000</td>\n",
              "      <td>200000.000000</td>\n",
              "      <td>200000.000000</td>\n",
              "      <td>800000.000000</td>\n",
              "      <td>60000.00000</td>\n",
              "      <td>250000.000000</td>\n",
              "      <td>50000.000000</td>\n",
              "      <td>0.0</td>\n",
              "      <td>255750.000000</td>\n",
              "      <td>819000.000000</td>\n",
              "      <td>819000.000000</td>\n",
              "      <td>12.000000</td>\n",
              "      <td>12.000000</td>\n",
              "      <td>12.000000</td>\n",
              "      <td>12.000000</td>\n",
              "      <td>12.000000</td>\n",
              "      <td>12.000000</td>\n",
              "      <td>819000.000000</td>\n",
              "      <td>12.00000</td>\n",
              "      <td>12.000000</td>\n",
              "      <td>12.000000</td>\n",
              "      <td>12.000000</td>\n",
              "      <td>12.000000</td>\n",
              "      <td>12.000000</td>\n",
              "      <td>22856.000000</td>\n",
              "      <td>1.000000</td>\n",
              "    </tr>\n",
              "  </tbody>\n",
              "</table>\n",
              "<p>8 rows × 173 columns</p>\n",
              "</div>"
            ],
            "text/plain": [
              "       TRIMESTRE     NRO_HOGAR  ...        PONDIH         CH04d\n",
              "count    46693.0  46693.000000  ...  46693.000000  46693.000000\n",
              "mean         1.0      1.044503  ...    616.937699      0.522005\n",
              "std          0.0      0.826631  ...   1580.464850      0.499521\n",
              "min          1.0      1.000000  ...      0.000000      0.000000\n",
              "25%          1.0      1.000000  ...    113.000000      0.000000\n",
              "50%          1.0      1.000000  ...    215.000000      1.000000\n",
              "75%          1.0      1.000000  ...    430.000000      1.000000\n",
              "max          1.0     72.000000  ...  22856.000000      1.000000\n",
              "\n",
              "[8 rows x 173 columns]"
            ]
          },
          "metadata": {},
          "execution_count": 70
        }
      ]
    },
    {
      "cell_type": "code",
      "metadata": {
        "id": "4PkTydFTfzvY"
      },
      "source": [
        "columna_edad = \"CH06\"\n",
        "columna_educacion = \"NIVEL_ED\" # 6 \n",
        "columna_ocup = \"CAT_OCUP\" # 3\n",
        "columna_ingresos = \"P47T\""
      ],
      "execution_count": null,
      "outputs": []
    },
    {
      "cell_type": "code",
      "metadata": {
        "colab": {
          "base_uri": "https://localhost:8080/",
          "height": 35
        },
        "id": "RlHjF6E7f3Xd",
        "outputId": "fdd306b6-216d-45e8-b85c-cbdef09f099a"
      },
      "source": [
        "\"\"\"\n",
        "Pondih: ingresos familiares \n",
        "Pondii: ingreso individual\n",
        "Pondiio: ingreso de la ocupación principal\n",
        "Pondera: todo lo que no es ingreso\n",
        "\"\"\""
      ],
      "execution_count": null,
      "outputs": [
        {
          "output_type": "execute_result",
          "data": {
            "application/vnd.google.colaboratory.intrinsic+json": {
              "type": "string"
            },
            "text/plain": [
              "'\\nPondih: ingresos familiares \\nPondii: ingreso individual\\nPondiio: ingreso de la ocupación principal\\nPondera: todo lo que no es ingreso\\n'"
            ]
          },
          "metadata": {},
          "execution_count": 81
        }
      ]
    },
    {
      "cell_type": "code",
      "metadata": {
        "id": "LVr5DhH-f5s8"
      },
      "source": [
        "COLUMNAS = {1 : \"Primaria Incompleta\",\n",
        "2 : \"Primaria Completa\",\n",
        "3 : \"Secundaria Incompleta\",\n",
        "4 : \"Secundaria Completa\",\n",
        "5 : \"Superior Universitaria Incompleta\",\n",
        "6 : \"Superior Universitaria Completa\",\n",
        "7 : \"Sin instrucción\"}"
      ],
      "execution_count": null,
      "outputs": []
    },
    {
      "cell_type": "code",
      "metadata": {
        "id": "jwRNMq1wf7_E"
      },
      "source": [
        "ajuste_inflacion = 85.02/67.73\n",
        "min_edad = 25\n",
        "max_edad = 33\n",
        "filtro_edad = (min_edad <= usu[columna_edad]) & (max_edad >= usu[columna_edad])\n",
        "filtro_ocup = usu[columna_ocup] == 3\n",
        "filtro_ingresos_positivos = usu[columna_ingresos ] >0\n",
        "\n",
        "\n",
        "usu_jovenes = usu.loc[filtro_edad & filtro_ocup & filtro_ingresos_positivos][[\"PONDII\", columna_educacion, columna_ingresos, \"REGION\", \"TOT_P12\", \"P21\", \"T_VI\"]]\n",
        "usu_jovenes[\"WEIGHTS\"] = usu_jovenes[\"PONDII\"]/usu_jovenes[\"PONDII\"].sum()\n",
        "usu_jovenes[[columna_ingresos, \"TOT_P12\", \"P21\", \"T_VI\"]] *= ajuste_inflacion"
      ],
      "execution_count": null,
      "outputs": []
    },
    {
      "cell_type": "code",
      "metadata": {
        "colab": {
          "base_uri": "https://localhost:8080/"
        },
        "id": "TP2mLpT2gkL9",
        "outputId": "eda7b178-11f5-4e18-bbdf-2103840130d2"
      },
      "source": [
        "usu_temp = usu_jovenes.query(\"NIVEL_ED == 2 & REGION == 1\")\n",
        "(usu_temp[\"P47T\"] * usu_temp[\"WEIGHTS\"] /usu_temp[\"WEIGHTS\"].sum() ).sum()"
      ],
      "execution_count": null,
      "outputs": [
        {
          "output_type": "execute_result",
          "data": {
            "text/plain": [
              "37741.182113145085"
            ]
          },
          "metadata": {},
          "execution_count": 85
        }
      ]
    },
    {
      "cell_type": "code",
      "metadata": {
        "id": "us6urpkQgrxT"
      },
      "source": [
        "regiones = {\n",
        "    1: \"Gran Buenos Aires\",\n",
        "    40:\"NOA\",\n",
        "    41 :\"NEA\",\n",
        "    42: \"Cuyo\",\n",
        "    43: \"Pampeana\",\n",
        "    44: \"Patagónica\"\n",
        "}"
      ],
      "execution_count": null,
      "outputs": []
    },
    {
      "cell_type": "code",
      "metadata": {
        "colab": {
          "base_uri": "https://localhost:8080/"
        },
        "id": "ytrvYr_Mg6gf",
        "outputId": "491d791b-272f-4351-cdc6-f9ca6e5eafa6"
      },
      "source": [
        "ponderador = \"WEIGHTS\"\n",
        "usu_temp = usu_jovenes.query(\"NIVEL_ED == 5 & REGION == 1\")\n",
        "(usu_temp[\"P47T\"] * usu_temp[\"WEIGHTS\"] /usu_temp[\"WEIGHTS\"].sum() ).sum()\n"
      ],
      "execution_count": null,
      "outputs": [
        {
          "output_type": "execute_result",
          "data": {
            "text/plain": [
              "79206.9864208958"
            ]
          },
          "metadata": {},
          "execution_count": 89
        }
      ]
    },
    {
      "cell_type": "code",
      "metadata": {
        "colab": {
          "base_uri": "https://localhost:8080/",
          "height": 300
        },
        "id": "svOen0cVhEXn",
        "outputId": "75f367d6-0b79-434c-c8a7-85bef8e0bcd7"
      },
      "source": [
        "def mediana_weighted(usu):\n",
        "  ponderador = \"WEIGHTS\"\n",
        "  usu = usu.sort_values(columna_ingresos)\n",
        "  # print(usu)\n",
        "  cumsum = usu[ponderador].cumsum()\n",
        "  #print(cumsum.iloc[-1])\n",
        "  cutoff = usu[ponderador].sum() *.5\n",
        "  median = usu[columna_ingresos][cumsum >= cutoff].iloc[0]\n",
        "  return median\n",
        "\n",
        "def mean_weighted(usu):\n",
        "  return (usu[\"P47T\"] * usu[\"WEIGHTS\"] /usu[\"WEIGHTS\"].sum() ).sum()\n",
        "  \n",
        "\n",
        "usu_agrupado = usu_jovenes.groupby([\"NIVEL_ED\", \"REGION\"]).apply(mediana_weighted).unstack().round(0)\n",
        "usu_agrupado.rename(COLUMNAS, inplace=True)\n",
        "usu_agrupado.rename(regiones, inplace=True, axis=1)\n",
        "usu_agrupado"
      ],
      "execution_count": null,
      "outputs": [
        {
          "output_type": "execute_result",
          "data": {
            "text/html": [
              "<div>\n",
              "<style scoped>\n",
              "    .dataframe tbody tr th:only-of-type {\n",
              "        vertical-align: middle;\n",
              "    }\n",
              "\n",
              "    .dataframe tbody tr th {\n",
              "        vertical-align: top;\n",
              "    }\n",
              "\n",
              "    .dataframe thead th {\n",
              "        text-align: right;\n",
              "    }\n",
              "</style>\n",
              "<table border=\"1\" class=\"dataframe\">\n",
              "  <thead>\n",
              "    <tr style=\"text-align: right;\">\n",
              "      <th>REGION</th>\n",
              "      <th>Gran Buenos Aires</th>\n",
              "      <th>NOA</th>\n",
              "      <th>NEA</th>\n",
              "      <th>Cuyo</th>\n",
              "      <th>Pampeana</th>\n",
              "      <th>Patagónica</th>\n",
              "    </tr>\n",
              "    <tr>\n",
              "      <th>NIVEL_ED</th>\n",
              "      <th></th>\n",
              "      <th></th>\n",
              "      <th></th>\n",
              "      <th></th>\n",
              "      <th></th>\n",
              "      <th></th>\n",
              "    </tr>\n",
              "  </thead>\n",
              "  <tbody>\n",
              "    <tr>\n",
              "      <th>Primaria Incompleta</th>\n",
              "      <td>NaN</td>\n",
              "      <td>27616.0</td>\n",
              "      <td>25545.0</td>\n",
              "      <td>23029.0</td>\n",
              "      <td>40169.0</td>\n",
              "      <td>40169.0</td>\n",
              "    </tr>\n",
              "    <tr>\n",
              "      <th>Primaria Completa</th>\n",
              "      <td>43935.0</td>\n",
              "      <td>22595.0</td>\n",
              "      <td>20084.0</td>\n",
              "      <td>25106.0</td>\n",
              "      <td>37658.0</td>\n",
              "      <td>38914.0</td>\n",
              "    </tr>\n",
              "    <tr>\n",
              "      <th>Secundaria Incompleta</th>\n",
              "      <td>25106.0</td>\n",
              "      <td>22595.0</td>\n",
              "      <td>25106.0</td>\n",
              "      <td>30127.0</td>\n",
              "      <td>31382.0</td>\n",
              "      <td>50211.0</td>\n",
              "    </tr>\n",
              "    <tr>\n",
              "      <th>Secundaria Completa</th>\n",
              "      <td>45190.0</td>\n",
              "      <td>35148.0</td>\n",
              "      <td>30127.0</td>\n",
              "      <td>35148.0</td>\n",
              "      <td>43935.0</td>\n",
              "      <td>69040.0</td>\n",
              "    </tr>\n",
              "    <tr>\n",
              "      <th>Superior Universitaria Incompleta</th>\n",
              "      <td>62764.0</td>\n",
              "      <td>29122.0</td>\n",
              "      <td>32637.0</td>\n",
              "      <td>30127.0</td>\n",
              "      <td>49207.0</td>\n",
              "      <td>50211.0</td>\n",
              "    </tr>\n",
              "    <tr>\n",
              "      <th>Superior Universitaria Completa</th>\n",
              "      <td>63392.0</td>\n",
              "      <td>43935.0</td>\n",
              "      <td>50211.0</td>\n",
              "      <td>53098.0</td>\n",
              "      <td>56488.0</td>\n",
              "      <td>72806.0</td>\n",
              "    </tr>\n",
              "    <tr>\n",
              "      <th>Sin instrucción</th>\n",
              "      <td>NaN</td>\n",
              "      <td>NaN</td>\n",
              "      <td>25733.0</td>\n",
              "      <td>NaN</td>\n",
              "      <td>37658.0</td>\n",
              "      <td>NaN</td>\n",
              "    </tr>\n",
              "  </tbody>\n",
              "</table>\n",
              "</div>"
            ],
            "text/plain": [
              "REGION                             Gran Buenos Aires  ...  Patagónica\n",
              "NIVEL_ED                                              ...            \n",
              "Primaria Incompleta                              NaN  ...     40169.0\n",
              "Primaria Completa                            43935.0  ...     38914.0\n",
              "Secundaria Incompleta                        25106.0  ...     50211.0\n",
              "Secundaria Completa                          45190.0  ...     69040.0\n",
              "Superior Universitaria Incompleta            62764.0  ...     50211.0\n",
              "Superior Universitaria Completa              63392.0  ...     72806.0\n",
              "Sin instrucción                                  NaN  ...         NaN\n",
              "\n",
              "[7 rows x 6 columns]"
            ]
          },
          "metadata": {},
          "execution_count": 90
        }
      ]
    },
    {
      "cell_type": "code",
      "metadata": {
        "colab": {
          "base_uri": "https://localhost:8080/",
          "height": 269
        },
        "id": "aQPkb3K-hbTE",
        "outputId": "67e3c0a8-9eb2-4523-fc8c-810a6b6ec274"
      },
      "source": [
        "usu_temp = usu_agrupado.T[[\"Secundaria Completa\", \"Superior Universitaria Completa\"]]\n",
        "usu_temp[\"Diff. Nominal\"] = usu_temp[\"Superior Universitaria Completa\"] - usu_temp[\"Secundaria Completa\"]\n",
        "usu_temp[\"Diff. Porcentual\"] = usu_temp[\"Superior Universitaria Completa\"] / usu_temp[\"Secundaria Completa\"] * 100 - 100\n",
        "usu_temp.round()"
      ],
      "execution_count": null,
      "outputs": [
        {
          "output_type": "execute_result",
          "data": {
            "text/html": [
              "<div>\n",
              "<style scoped>\n",
              "    .dataframe tbody tr th:only-of-type {\n",
              "        vertical-align: middle;\n",
              "    }\n",
              "\n",
              "    .dataframe tbody tr th {\n",
              "        vertical-align: top;\n",
              "    }\n",
              "\n",
              "    .dataframe thead th {\n",
              "        text-align: right;\n",
              "    }\n",
              "</style>\n",
              "<table border=\"1\" class=\"dataframe\">\n",
              "  <thead>\n",
              "    <tr style=\"text-align: right;\">\n",
              "      <th>NIVEL_ED</th>\n",
              "      <th>Secundaria Completa</th>\n",
              "      <th>Superior Universitaria Completa</th>\n",
              "      <th>Diff. Nominal</th>\n",
              "      <th>Diff. Porcentual</th>\n",
              "    </tr>\n",
              "    <tr>\n",
              "      <th>REGION</th>\n",
              "      <th></th>\n",
              "      <th></th>\n",
              "      <th></th>\n",
              "      <th></th>\n",
              "    </tr>\n",
              "  </thead>\n",
              "  <tbody>\n",
              "    <tr>\n",
              "      <th>Gran Buenos Aires</th>\n",
              "      <td>45190.0</td>\n",
              "      <td>63392.0</td>\n",
              "      <td>18202.0</td>\n",
              "      <td>40.0</td>\n",
              "    </tr>\n",
              "    <tr>\n",
              "      <th>NOA</th>\n",
              "      <td>35148.0</td>\n",
              "      <td>43935.0</td>\n",
              "      <td>8787.0</td>\n",
              "      <td>25.0</td>\n",
              "    </tr>\n",
              "    <tr>\n",
              "      <th>NEA</th>\n",
              "      <td>30127.0</td>\n",
              "      <td>50211.0</td>\n",
              "      <td>20084.0</td>\n",
              "      <td>67.0</td>\n",
              "    </tr>\n",
              "    <tr>\n",
              "      <th>Cuyo</th>\n",
              "      <td>35148.0</td>\n",
              "      <td>53098.0</td>\n",
              "      <td>17950.0</td>\n",
              "      <td>51.0</td>\n",
              "    </tr>\n",
              "    <tr>\n",
              "      <th>Pampeana</th>\n",
              "      <td>43935.0</td>\n",
              "      <td>56488.0</td>\n",
              "      <td>12553.0</td>\n",
              "      <td>29.0</td>\n",
              "    </tr>\n",
              "    <tr>\n",
              "      <th>Patagónica</th>\n",
              "      <td>69040.0</td>\n",
              "      <td>72806.0</td>\n",
              "      <td>3766.0</td>\n",
              "      <td>5.0</td>\n",
              "    </tr>\n",
              "  </tbody>\n",
              "</table>\n",
              "</div>"
            ],
            "text/plain": [
              "NIVEL_ED           Secundaria Completa  ...  Diff. Porcentual\n",
              "REGION                                  ...                  \n",
              "Gran Buenos Aires              45190.0  ...              40.0\n",
              "NOA                            35148.0  ...              25.0\n",
              "NEA                            30127.0  ...              67.0\n",
              "Cuyo                           35148.0  ...              51.0\n",
              "Pampeana                       43935.0  ...              29.0\n",
              "Patagónica                     69040.0  ...               5.0\n",
              "\n",
              "[6 rows x 4 columns]"
            ]
          },
          "metadata": {},
          "execution_count": 91
        }
      ]
    },
    {
      "cell_type": "code",
      "metadata": {
        "colab": {
          "base_uri": "https://localhost:8080/",
          "height": 596
        },
        "id": "j520vlbThpEb",
        "outputId": "b00c843a-4fa7-4083-c411-9e47fbe3da9b"
      },
      "source": [
        "usu_temp[[\"Secundaria Completa\", \"Superior Universitaria Completa\"]].plot.bar(figsize=(12, 8))"
      ],
      "execution_count": null,
      "outputs": [
        {
          "output_type": "execute_result",
          "data": {
            "text/plain": [
              "<matplotlib.axes._subplots.AxesSubplot at 0x7ff2654b4210>"
            ]
          },
          "metadata": {},
          "execution_count": 92
        },
        {
          "output_type": "display_data",
          "data": {
            "image/png": "[encoded data removed]",
            "text/plain": [
              "<Figure size 864x576 with 1 Axes>"
            ]
          },
          "metadata": {
            "needs_background": "light"
          }
        }
      ]
    },
    {
      "cell_type": "code",
      "metadata": {
        "id": "gdV6VfzWiK4P"
      },
      "source": [
        "agrupacion_nivel_ed = usu_jovenes.groupby(\"NIVEL_ED\").mean()\n",
        "agrupacion_nivel_ed.rename(COLUMNAS, inplace=True)"
      ],
      "execution_count": null,
      "outputs": []
    },
    {
      "cell_type": "code",
      "metadata": {
        "colab": {
          "base_uri": "https://localhost:8080/",
          "height": 300
        },
        "id": "w4PR_daCiMvs",
        "outputId": "5f942919-5d30-4803-f252-a21ad7a856cf"
      },
      "source": [
        "agrupacion_nivel_ed[[\"P47T\"]]"
      ],
      "execution_count": null,
      "outputs": [
        {
          "output_type": "execute_result",
          "data": {
            "text/html": [
              "<div>\n",
              "<style scoped>\n",
              "    .dataframe tbody tr th:only-of-type {\n",
              "        vertical-align: middle;\n",
              "    }\n",
              "\n",
              "    .dataframe tbody tr th {\n",
              "        vertical-align: top;\n",
              "    }\n",
              "\n",
              "    .dataframe thead th {\n",
              "        text-align: right;\n",
              "    }\n",
              "</style>\n",
              "<table border=\"1\" class=\"dataframe\">\n",
              "  <thead>\n",
              "    <tr style=\"text-align: right;\">\n",
              "      <th></th>\n",
              "      <th>P47T</th>\n",
              "    </tr>\n",
              "    <tr>\n",
              "      <th>NIVEL_ED</th>\n",
              "      <th></th>\n",
              "    </tr>\n",
              "  </thead>\n",
              "  <tbody>\n",
              "    <tr>\n",
              "      <th>Primaria Incompleta</th>\n",
              "      <td>44849.943378</td>\n",
              "    </tr>\n",
              "    <tr>\n",
              "      <th>Primaria Completa</th>\n",
              "      <td>33470.355225</td>\n",
              "    </tr>\n",
              "    <tr>\n",
              "      <th>Secundaria Incompleta</th>\n",
              "      <td>39038.998263</td>\n",
              "    </tr>\n",
              "    <tr>\n",
              "      <th>Secundaria Completa</th>\n",
              "      <td>46974.031190</td>\n",
              "    </tr>\n",
              "    <tr>\n",
              "      <th>Superior Universitaria Incompleta</th>\n",
              "      <td>46641.772888</td>\n",
              "    </tr>\n",
              "    <tr>\n",
              "      <th>Superior Universitaria Completa</th>\n",
              "      <td>62064.001018</td>\n",
              "    </tr>\n",
              "    <tr>\n",
              "      <th>Sin instrucción</th>\n",
              "      <td>23065.738964</td>\n",
              "    </tr>\n",
              "  </tbody>\n",
              "</table>\n",
              "</div>"
            ],
            "text/plain": [
              "                                           P47T\n",
              "NIVEL_ED                                       \n",
              "Primaria Incompleta                44849.943378\n",
              "Primaria Completa                  33470.355225\n",
              "Secundaria Incompleta              39038.998263\n",
              "Secundaria Completa                46974.031190\n",
              "Superior Universitaria Incompleta  46641.772888\n",
              "Superior Universitaria Completa    62064.001018\n",
              "Sin instrucción                    23065.738964"
            ]
          },
          "metadata": {},
          "execution_count": 94
        }
      ]
    },
    {
      "cell_type": "code",
      "metadata": {
        "colab": {
          "base_uri": "https://localhost:8080/",
          "height": 689
        },
        "id": "Tj8tUqQ6iQTT",
        "outputId": "adb307e1-cd20-4e79-f26f-d78551f1ead2"
      },
      "source": [
        "import matplotlib.ticker as mtick\n",
        "ax = agrupacion_nivel_ed[[\"P47T\"]].plot.bar(figsize=(12, 8))\n",
        "ax.set_title(f\"Nivel Educativo: Personas de {min_edad} a {max_edad} años\")"
      ],
      "execution_count": null,
      "outputs": [
        {
          "output_type": "execute_result",
          "data": {
            "text/plain": [
              "Text(0.5, 1.0, 'Nivel Educativo: Personas de 25 a 33 años')"
            ]
          },
          "metadata": {},
          "execution_count": 95
        },
        {
          "output_type": "display_data",
          "data": {
            "image/png": "[encoded data removed]",
            "text/plain": [
              "<Figure size 864x576 with 1 Axes>"
            ]
          },
          "metadata": {
            "needs_background": "light"
          }
        }
      ]
    },
    {
      "cell_type": "code",
      "metadata": {
        "colab": {
          "base_uri": "https://localhost:8080/",
          "height": 689
        },
        "id": "WXyaEP3fiSUs",
        "outputId": "d5106b41-43ef-4733-9336-ec4c03f4af0c"
      },
      "source": [
        "import matplotlib.ticker as mtick\n",
        "ax = agrupacion_nivel_ed[[\"P47T\"]].plot.bar(figsize=(12, 8))\n",
        "ax.set_title(f\"Nivel Educativo: Personas de {min_edad} a {max_edad} años\")"
      ],
      "execution_count": null,
      "outputs": [
        {
          "output_type": "execute_result",
          "data": {
            "text/plain": [
              "Text(0.5, 1.0, 'Nivel Educativo: Personas de 25 a 33 años')"
            ]
          },
          "metadata": {},
          "execution_count": 96
        },
        {
          "output_type": "display_data",
          "data": {
            "image/png": "[encoded data removed]",
            "text/plain": [
              "<Figure size 864x576 with 1 Axes>"
            ]
          },
          "metadata": {
            "needs_background": "light"
          }
        }
      ]
    }
  ]
}